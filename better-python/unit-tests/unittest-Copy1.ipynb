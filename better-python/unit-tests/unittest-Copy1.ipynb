{
 "cells": [
  {
   "cell_type": "markdown",
   "metadata": {},
   "source": [
    "# Python unittest framework"
   ]
  },
  {
   "cell_type": "markdown",
   "metadata": {},
   "source": [
    "To run tests in the notebook environment, we need a utility method:"
   ]
  },
  {
   "cell_type": "code",
   "execution_count": 3,
   "metadata": {
    "collapsed": true
   },
   "outputs": [],
   "source": [
    "def run_tests(test_cls):\n",
    "    tests = unittest.TestLoader().loadTestsFromTestCase(test_cls)\n",
    "    unittest.TextTestRunner(verbosity=2).run(tests)"
   ]
  },
  {
   "cell_type": "markdown",
   "metadata": {},
   "source": [
    "## unittest.TestCase"
   ]
  },
  {
   "cell_type": "code",
   "execution_count": 4,
   "metadata": {
    "collapsed": false
   },
   "outputs": [
    {
     "name": "stderr",
     "output_type": "stream",
     "text": [
      "test_sanity (__main__.MyTest)\n",
      "Verify sanity. ... ok\n",
      "\n",
      "----------------------------------------------------------------------\n",
      "Ran 1 test in 0.004s\n",
      "\n",
      "OK\n"
     ]
    }
   ],
   "source": [
    "import unittest\n",
    "\n",
    "class MyTest(unittest.TestCase):\n",
    "\n",
    "    def test_sanity(self):\n",
    "        \"\"\"Verify sanity.\n",
    "        \"\"\"\n",
    "        self.assertTrue(True)\n",
    "\n",
    "run_tests(MyTest)"
   ]
  },
  {
   "cell_type": "markdown",
   "metadata": {},
   "source": [
    "## Recipe"
   ]
  },
  {
   "cell_type": "code",
   "execution_count": 5,
   "metadata": {
    "collapsed": true
   },
   "outputs": [],
   "source": [
    "class Recipe(object):\n",
    "    \"\"\"For now, just an encapsulation of ingredients.\n",
    "    \"\"\"\n",
    "    def __init__(self, ingredients=None):\n",
    "        \"\"\"\n",
    "        :type ingredients: [:py:class:`Ingredient`, ...]\n",
    "        :arg ingredients: list of recipe ingredients\n",
    "        \"\"\"\n",
    "        self.ingredients = ingredients"
   ]
  },
  {
   "cell_type": "markdown",
   "metadata": {},
   "source": [
    "## RecipeTests "
   ]
  },
  {
   "cell_type": "code",
   "execution_count": 57,
   "metadata": {
    "collapsed": false
   },
   "outputs": [
    {
     "name": "stderr",
     "output_type": "stream",
     "text": [
      "test_init (__main__.RecipeTests)\n",
      "Verify member data initialization. ... ok\n",
      "\n",
      "----------------------------------------------------------------------\n",
      "Ran 1 test in 0.002s\n",
      "\n",
      "OK\n"
     ]
    }
   ],
   "source": [
    "class RecipeTests(unittest.TestCase):\n",
    "    \"\"\"Verify Recipe behavior.\n",
    "    \"\"\"\n",
    "    def test_init(self):\n",
    "        \"\"\"Verify member data initialization.\n",
    "        \"\"\"\n",
    "        test_ingredients = [Ingredient(), Ingredient()]\n",
    "        test_recipe = Recipe(ingredients=test_ingredients)\n",
    "        self.assertEqual(test_ingredients, test_recipe.ingredients)\n",
    "        \n",
    "run_tests(RecipeTests)"
   ]
  },
  {
   "cell_type": "markdown",
   "metadata": {},
   "source": [
    "## No Ingredient class? No problem. Introducing Mock."
   ]
  },
  {
   "cell_type": "code",
   "execution_count": 52,
   "metadata": {
    "collapsed": false
   },
   "outputs": [
    {
     "name": "stderr",
     "output_type": "stream",
     "text": [
      "test_init (__main__.RecipeTests)\n",
      "Verify member data initialization. ... ok\n",
      "\n",
      "----------------------------------------------------------------------\n",
      "Ran 1 test in 0.003s\n",
      "\n",
      "OK\n"
     ]
    }
   ],
   "source": [
    "import mock\n",
    "\n",
    "class RecipeTests(unittest.TestCase):\n",
    "    \"\"\"Verify Recipe behavior.\n",
    "    \"\"\"\n",
    "    def test_init(self):\n",
    "        \"\"\"Verify member data initialization.\n",
    "        \"\"\"\n",
    "        test_ingredients = mock.Mock(name='ingredients')\n",
    "        test_recipe = Recipe(ingredients=test_ingredients)\n",
    "        self.assertEqual(test_ingredients, test_recipe.ingredients)\n",
    "        \n",
    "run_tests(RecipeTests)"
   ]
  },
  {
   "cell_type": "markdown",
   "metadata": {},
   "source": [
    "## Recipe.is_vegetarian"
   ]
  },
  {
   "cell_type": "code",
   "execution_count": 22,
   "metadata": {
    "collapsed": true
   },
   "outputs": [],
   "source": [
    "class Recipe(object):\n",
    "    \"\"\"For now, just an encapsulation of ingredients.\n",
    "    \"\"\"\n",
    "    def __init__(self, ingredients=None):\n",
    "        self.ingredients = ingredients\n",
    "        \n",
    "    def is_vegetarian(self):\n",
    "        \"\"\"Recipe is vegetarian iff all ingredients are vegetarian.\n",
    "        \n",
    "        :rtype: bool\n",
    "        :return: True if recipe is vegetarian, False otherwise\n",
    "        \n",
    "        \"\"\"\n",
    "        if not self.ingredients:\n",
    "            raise ValueError(\"Recipe has no ingredients\")\n",
    "        for ingredient in self.ingredients:\n",
    "            if not ingredient.is_vegetarian():\n",
    "                return False\n",
    "        return True"
   ]
  },
  {
   "cell_type": "markdown",
   "metadata": {},
   "source": [
    "## RecipeTests.test_is_vegetarian"
   ]
  },
  {
   "cell_type": "code",
   "execution_count": 81,
   "metadata": {
    "collapsed": false
   },
   "outputs": [
    {
     "name": "stderr",
     "output_type": "stream",
     "text": [
      "test_is_vegetarian (__main__.RecipeTests)\n",
      "Verify calls made by is_vegetarian. ... ERROR\n",
      "\n",
      "======================================================================\n",
      "ERROR: test_is_vegetarian (__main__.RecipeTests)\n",
      "Verify calls made by is_vegetarian.\n",
      "----------------------------------------------------------------------\n",
      "Traceback (most recent call last):\n",
      "  File \"<ipython-input-81-1ced4e2db9f0>\", line 9, in test_is_vegetarian\n",
      "    test_recipe.is_vegetarian()\n",
      "  File \"<ipython-input-22-77be25c9c2ac>\", line 16, in is_vegetarian\n",
      "    for ingredient in self.ingredients:\n",
      "TypeError: 'Mock' object is not iterable\n",
      "\n",
      "----------------------------------------------------------------------\n",
      "Ran 1 test in 0.008s\n",
      "\n",
      "FAILED (errors=1)\n"
     ]
    }
   ],
   "source": [
    "class RecipeTests(unittest.TestCase):\n",
    "    \"\"\"Verify Recipe behavior.\n",
    "    \"\"\"\n",
    "    def test_is_vegetarian(self):\n",
    "        \"\"\"Verify calls made by is_vegetarian.\n",
    "        \"\"\"\n",
    "        test_ingredients = mock.Mock(name='ingredients')\n",
    "        test_recipe = Recipe(ingredients=test_ingredients)\n",
    "        test_recipe.is_vegetarian()\n",
    "        \n",
    "run_tests(RecipeTests)"
   ]
  },
  {
   "cell_type": "markdown",
   "metadata": {},
   "source": [
    "## Mock object not iterable? No problem. Introducing MagicMock."
   ]
  },
  {
   "cell_type": "markdown",
   "metadata": {},
   "source": [
    "**Try it:** Replace Mock with MagicMock.\n",
    "\n",
    "**Warning:** Be careful with magic."
   ]
  },
  {
   "cell_type": "markdown",
   "metadata": {},
   "source": [
    "## Ingredient class"
   ]
  },
  {
   "cell_type": "code",
   "execution_count": 66,
   "metadata": {
    "collapsed": false
   },
   "outputs": [],
   "source": [
    "class Ingredient(object):\n",
    "    \"\"\"Not very interesting yet. \n",
    "    \"\"\"     \n",
    "    def is_vegetarian(self):\n",
    "        raise NotImplementedError()"
   ]
  },
  {
   "cell_type": "markdown",
   "metadata": {},
   "source": [
    "**Try it:** Re-run original RecipeTests.test_init, now that Ingredient is defined."
   ]
  },
  {
   "cell_type": "markdown",
   "metadata": {},
   "source": [
    "## RecipeTests.test_is_vegetarian with Ingredient objects"
   ]
  },
  {
   "cell_type": "code",
   "execution_count": 68,
   "metadata": {
    "collapsed": false
   },
   "outputs": [
    {
     "name": "stderr",
     "output_type": "stream",
     "text": [
      "test_is_vegetarian (__main__.RecipeTests)\n",
      "Verify calls made by is_vegetarian. ... ERROR\n",
      "\n",
      "======================================================================\n",
      "ERROR: test_is_vegetarian (__main__.RecipeTests)\n",
      "Verify calls made by is_vegetarian.\n",
      "----------------------------------------------------------------------\n",
      "Traceback (most recent call last):\n",
      "  File \"<ipython-input-68-7741a9de72ae>\", line 9, in test_is_vegetarian\n",
      "    test_recipe.is_vegetarian()\n",
      "  File \"<ipython-input-22-77be25c9c2ac>\", line 17, in is_vegetarian\n",
      "    if not ingredient.is_vegetarian():\n",
      "  File \"<ipython-input-66-9d468edebd58>\", line 5, in is_vegetarian\n",
      "    raise NotImplementedError()\n",
      "NotImplementedError\n",
      "\n",
      "----------------------------------------------------------------------\n",
      "Ran 1 test in 0.005s\n",
      "\n",
      "FAILED (errors=1)\n"
     ]
    }
   ],
   "source": [
    "class RecipeTests(unittest.TestCase):\n",
    "    \"\"\"Verify Recipe behavior.\n",
    "    \"\"\"\n",
    "    def test_is_vegetarian(self):\n",
    "        \"\"\"Verify calls made by is_vegetarian.\n",
    "        \"\"\"\n",
    "        test_ingredients = [Ingredient(), Ingredient()]\n",
    "        test_recipe = Recipe(ingredients=test_ingredients)\n",
    "        test_recipe.is_vegetarian()\n",
    "        \n",
    "run_tests(RecipeTests)"
   ]
  },
  {
   "cell_type": "markdown",
   "metadata": {},
   "source": [
    "## Not ready to implement Ingredient.is_vegetarian? No problem. Introducing mock.patch."
   ]
  },
  {
   "cell_type": "code",
   "execution_count": 82,
   "metadata": {
    "collapsed": false
   },
   "outputs": [
    {
     "name": "stderr",
     "output_type": "stream",
     "text": [
      "test_is_vegetarian (__main__.RecipeTests)\n",
      "Verify calls made by is_vegetarian. ... ok\n",
      "\n",
      "----------------------------------------------------------------------\n",
      "Ran 1 test in 0.006s\n",
      "\n",
      "OK\n"
     ]
    }
   ],
   "source": [
    "class RecipeTests(unittest.TestCase):\n",
    "    \"\"\"Verify Recipe behavior.\n",
    "    \"\"\"\n",
    "    @mock.patch.object(Ingredient, 'is_vegetarian')\n",
    "    def test_is_vegetarian(self, is_ingredient_vegetarian):\n",
    "        \"\"\"Verify calls made by is_vegetarian.\n",
    "        \"\"\"\n",
    "        # Set up test data\n",
    "        test_ingredients = [Ingredient(), Ingredient()]\n",
    "        test_recipe = Recipe(ingredients=test_ingredients)\n",
    "        \n",
    "        # Make call\n",
    "        test_recipe.is_vegetarian()\n",
    "        \n",
    "        # Verify mocks\n",
    "        self.assertEqual(2, is_ingredient_vegetarian.call_count)\n",
    "        \n",
    "run_tests(RecipeTests)"
   ]
  },
  {
   "cell_type": "markdown",
   "metadata": {},
   "source": [
    "## Mock.return_value and Mock.call_count"
   ]
  },
  {
   "cell_type": "code",
   "execution_count": 103,
   "metadata": {
    "collapsed": false
   },
   "outputs": [
    {
     "name": "stderr",
     "output_type": "stream",
     "text": [
      "test_is_vegetarian__ingredients_non_vegetarian (__main__.RecipeTests)\n",
      "Verify return value of is_vegetarian when ingredients are not vegetarian. ... ok\n",
      "test_is_vegetarian__ingredients_vegetarian (__main__.RecipeTests)\n",
      "Verify return value of is_vegetarian when ingredients are vegetarian. ... ok\n",
      "\n",
      "----------------------------------------------------------------------\n",
      "Ran 2 tests in 0.008s\n",
      "\n",
      "OK\n"
     ]
    }
   ],
   "source": [
    "class RecipeTests(unittest.TestCase):\n",
    "    \"\"\"Verify Recipe behavior.\n",
    "    \"\"\"\n",
    "    @mock.patch.object(Ingredient, 'is_vegetarian')\n",
    "    def test_is_vegetarian__ingredients_vegetarian(self, is_veg_ingredient):\n",
    "        \"\"\"Verify return value of is_vegetarian when ingredients are vegetarian.\n",
    "        \"\"\"\n",
    "        # Set up mocks and test data \n",
    "        is_veg_ingredient.return_value = True\n",
    "        test_ingredients = [Ingredient(), Ingredient()]\n",
    "        test_recipe = Recipe(ingredients=test_ingredients)\n",
    "        \n",
    "        # Make call\n",
    "        result = test_recipe.is_vegetarian()\n",
    "        \n",
    "        # Verify result\n",
    "        self.assertTrue(result)\n",
    "        \n",
    "        # Verify mocks\n",
    "        self.assertEqual(len(test_ingredients), is_veg_ingredient.call_count)\n",
    "        \n",
    "    @mock.patch.object(Ingredient, 'is_vegetarian')\n",
    "    def test_is_vegetarian__ingredients_non_vegetarian(self, is_veg_ingredient):\n",
    "        \"\"\"Verify return value of is_vegetarian when ingredients are not vegetarian.\n",
    "        \"\"\"\n",
    "        pass\n",
    "        \n",
    "run_tests(RecipeTests)"
   ]
  },
  {
   "cell_type": "markdown",
   "metadata": {},
   "source": [
    "**Try it:** Implement test_is_vegetarian__ingredients_non_vegetarian."
   ]
  },
  {
   "cell_type": "markdown",
   "metadata": {},
   "source": [
    "## Mock.side_effect"
   ]
  },
  {
   "cell_type": "code",
   "execution_count": 106,
   "metadata": {
    "collapsed": false
   },
   "outputs": [
    {
     "name": "stderr",
     "output_type": "stream",
     "text": [
      "test_is_vegetarian__some_ingredients_vegetarian (__main__.RecipeTests)\n",
      "Verify return value of is_vegetarian when ingredients are vegetarian. ... ok\n",
      "\n",
      "----------------------------------------------------------------------\n",
      "Ran 1 test in 0.004s\n",
      "\n",
      "OK\n"
     ]
    }
   ],
   "source": [
    "class RecipeTests(unittest.TestCase):\n",
    "    \"\"\"Verify Recipe behavior.\n",
    "    \"\"\"\n",
    "    @mock.patch.object(Ingredient, 'is_vegetarian')\n",
    "    def test_is_vegetarian__some_ingredients_vegetarian(self, is_veg_ingredient):\n",
    "        \"\"\"Verify return value of is_vegetarian when ingredients are vegetarian.\n",
    "        \"\"\"\n",
    "        # Set up mocks and test data\n",
    "        is_veg_ingredient.side_effect = [True, False, True]\n",
    "        test_ingredients = [Ingredient(), Ingredient(), Ingredient()]\n",
    "        test_recipe = Recipe(ingredients=test_ingredients)\n",
    "        \n",
    "        # Make call\n",
    "        result = test_recipe.is_vegetarian()\n",
    "        \n",
    "        # Verify result\n",
    "        self.assertFalse(result)\n",
    "        \n",
    "        # Verify mocks\n",
    "        # Stop calling ingredient.is_vegetarian after first False return value\n",
    "        self.assertEqual(2, is_veg_ingredient.call_count)\n",
    "        \n",
    "run_tests(RecipeTests)"
   ]
  },
  {
   "cell_type": "markdown",
   "metadata": {},
   "source": [
    "## Recipe and Ingredient is_vegetarian methods support _strict_ keyword argument"
   ]
  },
  {
   "cell_type": "code",
   "execution_count": 110,
   "metadata": {
    "collapsed": false
   },
   "outputs": [],
   "source": [
    "class Recipe(object):\n",
    "    \"\"\"For now, just an encapsulation of ingredients.\n",
    "    \"\"\"\n",
    "    def __init__(self, ingredients=None):\n",
    "        self.ingredients = ingredients\n",
    "        \n",
    "    def is_vegetarian(self, strict=True):\n",
    "        \"\"\"Recipe is vegetarian iff all ingredients are vegetarian.\n",
    "        \n",
    "        :rtype: bool\n",
    "        :return: True if recipe is vegetarian, False otherwise\n",
    "        \n",
    "        :type strict: bool\n",
    "        :arg strict: True if only strictly vegetarian recipes should pass\n",
    "        \n",
    "        \"\"\"\n",
    "        if not self.ingredients:\n",
    "            raise ValueError(\"Recipe has no ingredients\")\n",
    "        for ingredient in self.ingredients:\n",
    "            if not ingredient.is_vegetarian(strict=strict):\n",
    "                return False\n",
    "        return True\n",
    "\n",
    "class Ingredient(object):\n",
    "    \"\"\"Not very interesting yet. \n",
    "    \"\"\"     \n",
    "    def is_vegetarian(self, strict=True):\n",
    "        raise NotImplementedError()"
   ]
  },
  {
   "cell_type": "markdown",
   "metadata": {},
   "source": [
    "## Mock.assert_called_once_with"
   ]
  },
  {
   "cell_type": "code",
   "execution_count": 111,
   "metadata": {
    "collapsed": false
   },
   "outputs": [
    {
     "name": "stderr",
     "output_type": "stream",
     "text": [
      "test_is_vegetarian__strict (__main__.RecipeTests)\n",
      "Verify calls made by is_vegetarian. ... ok\n",
      "\n",
      "----------------------------------------------------------------------\n",
      "Ran 1 test in 0.005s\n",
      "\n",
      "OK\n"
     ]
    }
   ],
   "source": [
    "class RecipeTests(unittest.TestCase):\n",
    "    \"\"\"Verify Recipe behavior.\n",
    "    \"\"\"\n",
    "    @mock.patch.object(Ingredient, 'is_vegetarian')\n",
    "    def test_is_vegetarian__strict__one_ingredient(self, is_veg_ingredient):\n",
    "        \"\"\"Verify calls made by is_vegetarian.\n",
    "        \"\"\"\n",
    "        # Set up mocks and test data\n",
    "        is_veg_ingredient.return_value = True\n",
    "        mock_strict_arg = mock.Mock(name='strict_arg')\n",
    "        test_recipe = Recipe(ingredients=[Ingredient()])\n",
    "\n",
    "        # Make call\n",
    "        test_recipe.is_vegetarian(strict=mock_strict_arg)\n",
    "        \n",
    "        # Verify mocks\n",
    "        is_veg_ingredient.assert_called_once_with(strict=mock_strict_arg)\n",
    "       \n",
    "run_tests(RecipeTests)"
   ]
  },
  {
   "cell_type": "markdown",
   "metadata": {},
   "source": [
    "## Mock.call_args_list and Mock.call"
   ]
  },
  {
   "cell_type": "code",
   "execution_count": 101,
   "metadata": {
    "collapsed": false
   },
   "outputs": [
    {
     "name": "stderr",
     "output_type": "stream",
     "text": [
      "test_is_vegetarian__strict (__main__.RecipeTests)\n",
      "Verify calls made by is_vegetarian. ... ok\n",
      "\n",
      "----------------------------------------------------------------------\n",
      "Ran 1 test in 0.005s\n",
      "\n",
      "OK\n"
     ]
    }
   ],
   "source": [
    "class RecipeTests(unittest.TestCase):\n",
    "    \"\"\"Verify Recipe behavior.\n",
    "    \"\"\"\n",
    "    @mock.patch.object(Ingredient, 'is_vegetarian')\n",
    "    def test_is_vegetarian__strict__multiple_ingredients(self, is_veg_ingredient):\n",
    "        \"\"\"Verify calls made by is_vegetarian.\n",
    "        \"\"\"\n",
    "        # Set up mocks and test data\n",
    "        is_veg_ingredient.return_value = True\n",
    "        mock_strict_arg = mock.Mock(name='strict_arg')\n",
    "        test_ingredients = [Ingredient(), Ingredient()]\n",
    "        test_recipe = Recipe(ingredients=test_ingredients)\n",
    "\n",
    "        # Make call\n",
    "        test_recipe.is_vegetarian(strict=mock_strict_arg)\n",
    "        \n",
    "        # Verify mocks\n",
    "        mock_calls = is_veg_ingredient.call_args_list\n",
    "        self.assertEqual(len(test_ingredients), len(mock_calls))\n",
    "        for mock_call in mock_calls:\n",
    "            self.assertEqual(mock.call(strict=mock_strict_arg), mock_call)\n",
    "        \n",
    "run_tests(RecipeTests)"
   ]
  },
  {
   "cell_type": "markdown",
   "metadata": {},
   "source": [
    "## unittest.TestCase.assertRaisesRegexp"
   ]
  },
  {
   "cell_type": "code",
   "execution_count": null,
   "metadata": {
    "collapsed": true
   },
   "outputs": [],
   "source": [
    "class RecipeTests(unittest.TestCase):\n",
    "    \"\"\"Verify Recipe behavior.\n",
    "    \"\"\"\n",
    "    def test_is_vegetarian__no_ingredients(self):\n",
    "        \"\"\"Verify ValueError if no ingredients are set on recipe.\n",
    "        \"\"\"\n",
    "        # Set up mocks and test data\n",
    "        for no_ingredients in (None, []):\n",
    "            test_recipe = Recipe(ingredients=no_ingredients)\n",
    "\n",
    "            # Make call\n",
    "            self.assertRaisesRegexp(ValueError,\n",
    "                                   'foo',\n",
    "                                    test_recipe.is_vegetarian)\n",
    "        \n",
    "        # Verify mocks\n",
    "        mock_calls = is_veg_ingredient.call_args_list\n",
    "        self.assertEqual(len(test_ingredients), len(mock_calls))\n",
    "        for mock_call in mock_calls:\n",
    "            self.assertEqual(mock.call(strict=mock_strict_arg), mock_call)\n",
    "        \n",
    "run_tests(RecipeTests)"
   ]
  }
 ],
 "metadata": {
  "kernelspec": {
   "display_name": "Python 2",
   "language": "python",
   "name": "python2"
  },
  "language_info": {
   "codemirror_mode": {
    "name": "ipython",
    "version": 2
   },
   "file_extension": ".py",
   "mimetype": "text/x-python",
   "name": "python",
   "nbconvert_exporter": "python",
   "pygments_lexer": "ipython2",
   "version": "2.7.11"
  }
 },
 "nbformat": 4,
 "nbformat_minor": 0
}
