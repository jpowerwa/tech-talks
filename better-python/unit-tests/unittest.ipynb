{
 "cells": [
  {
   "cell_type": "markdown",
   "metadata": {},
   "source": [
    "# Python unittest framework and mock"
   ]
  },
  {
   "cell_type": "markdown",
   "metadata": {},
   "source": [
    "# TODO: Order of patched args."
   ]
  },
  {
   "cell_type": "markdown",
   "metadata": {},
   "source": [
    "To run tests in the notebook environment, we need a utility method:"
   ]
  },
  {
   "cell_type": "code",
   "execution_count": null,
   "metadata": {
    "collapsed": true
   },
   "outputs": [],
   "source": [
    "def run_tests(test_cls):\n",
    "    tests = unittest.TestLoader().loadTestsFromTestCase(test_cls)\n",
    "    unittest.TextTestRunner(verbosity=2).run(tests)"
   ]
  },
  {
   "cell_type": "markdown",
   "metadata": {},
   "source": [
    "## unittest.TestCase"
   ]
  },
  {
   "cell_type": "code",
   "execution_count": null,
   "metadata": {
    "collapsed": false
   },
   "outputs": [],
   "source": [
    "import unittest\n",
    "\n",
    "class MyTest(unittest.TestCase):\n",
    "\n",
    "    def test_sanity(self):\n",
    "        \"\"\"Verify sanity.\n",
    "        \"\"\"\n",
    "        self.assertTrue(True)\n",
    "\n",
    "run_tests(MyTest)"
   ]
  },
  {
   "cell_type": "markdown",
   "metadata": {},
   "source": [
    "## Recipe"
   ]
  },
  {
   "cell_type": "code",
   "execution_count": null,
   "metadata": {
    "collapsed": true
   },
   "outputs": [],
   "source": [
    "class Recipe(object):\n",
    "    \"\"\"For now, just an encapsulation of ingredients.\n",
    "    \"\"\"\n",
    "    def __init__(self, ingredients=None):\n",
    "        \"\"\"\n",
    "        :type ingredients: [:py:class:`Ingredient`, ...]\n",
    "        :arg ingredients: list of recipe ingredients\n",
    "        \"\"\"\n",
    "        self.ingredients = ingredients"
   ]
  },
  {
   "cell_type": "markdown",
   "metadata": {},
   "source": [
    "## RecipeTests "
   ]
  },
  {
   "cell_type": "code",
   "execution_count": null,
   "metadata": {
    "collapsed": false
   },
   "outputs": [],
   "source": [
    "class RecipeTests(unittest.TestCase):\n",
    "    \"\"\"Verify Recipe behavior.\n",
    "    \"\"\"\n",
    "    def test_init(self):\n",
    "        \"\"\"Verify member data initialization.\n",
    "        \"\"\"\n",
    "        test_ingredients = [Ingredient(), Ingredient()]\n",
    "        test_recipe = Recipe(ingredients=test_ingredients)\n",
    "        self.assertEqual(test_ingredients, test_recipe.ingredients)\n",
    "        \n",
    "run_tests(RecipeTests)"
   ]
  },
  {
   "cell_type": "markdown",
   "metadata": {},
   "source": [
    "## No Ingredient class? No problem. Introducing Mock."
   ]
  },
  {
   "cell_type": "code",
   "execution_count": null,
   "metadata": {
    "collapsed": false
   },
   "outputs": [],
   "source": [
    "import mock\n",
    "\n",
    "class RecipeTests(unittest.TestCase):\n",
    "    \"\"\"Verify Recipe behavior.\n",
    "    \"\"\"\n",
    "    def test_init(self):\n",
    "        \"\"\"Verify member data initialization.\n",
    "        \"\"\"\n",
    "        test_ingredients = mock.Mock(name='ingredients')\n",
    "        test_recipe = Recipe(ingredients=test_ingredients)\n",
    "        self.assertEqual(test_ingredients, test_recipe.ingredients)\n",
    "        \n",
    "run_tests(RecipeTests)"
   ]
  },
  {
   "cell_type": "markdown",
   "metadata": {},
   "source": [
    "## <span style=\"color:#f0f\">Best practice: Give your Mock objects meaningful names.</span>"
   ]
  },
  {
   "cell_type": "markdown",
   "metadata": {},
   "source": [
    "## Recipe.is_vegetarian"
   ]
  },
  {
   "cell_type": "code",
   "execution_count": null,
   "metadata": {
    "collapsed": true
   },
   "outputs": [],
   "source": [
    "class Recipe(object):\n",
    "    \"\"\"For now, just an encapsulation of ingredients.\n",
    "    \"\"\"\n",
    "    def __init__(self, ingredients=None):\n",
    "        self.ingredients = ingredients\n",
    "        \n",
    "    def is_vegetarian(self):\n",
    "        \"\"\"Recipe is vegetarian iff all ingredients are vegetarian.\n",
    "        \n",
    "        :rtype: bool\n",
    "        :return: True if recipe is vegetarian, False otherwise\n",
    "        \n",
    "        \"\"\"\n",
    "        if not self.ingredients:\n",
    "            raise ValueError(\"Recipe has no ingredients\")\n",
    "        for ingredient in self.ingredients:\n",
    "            if not ingredient.is_vegetarian():\n",
    "                return False\n",
    "        return True"
   ]
  },
  {
   "cell_type": "markdown",
   "metadata": {},
   "source": [
    "## RecipeTests.test_is_vegetarian"
   ]
  },
  {
   "cell_type": "code",
   "execution_count": null,
   "metadata": {
    "collapsed": false
   },
   "outputs": [],
   "source": [
    "class RecipeTests(unittest.TestCase):\n",
    "    \"\"\"Verify Recipe behavior.\n",
    "    \"\"\"\n",
    "    def test_is_vegetarian(self):\n",
    "        \"\"\"Verify calls made by is_vegetarian.\n",
    "        \"\"\"\n",
    "        test_ingredients = mock.Mock(name='ingredients')\n",
    "        test_recipe = Recipe(ingredients=test_ingredients)\n",
    "        test_recipe.is_vegetarian()\n",
    "        \n",
    "run_tests(RecipeTests)"
   ]
  },
  {
   "cell_type": "markdown",
   "metadata": {},
   "source": [
    "## Mock object not iterable? No problem. Introducing MagicMock."
   ]
  },
  {
   "cell_type": "markdown",
   "metadata": {},
   "source": [
    "**Try it:** Replace Mock with MagicMock."
   ]
  },
  {
   "cell_type": "markdown",
   "metadata": {},
   "source": [
    "## Best practice: Be careful with MagicMock."
   ]
  },
  {
   "cell_type": "markdown",
   "metadata": {},
   "source": [
    "## Alternatively, use list of Mocks"
   ]
  },
  {
   "cell_type": "code",
   "execution_count": null,
   "metadata": {
    "collapsed": false
   },
   "outputs": [],
   "source": [
    "class RecipeTests(unittest.TestCase):\n",
    "    \"\"\"Verify Recipe behavior.\n",
    "    \"\"\"\n",
    "    def test_is_vegetarian(self):\n",
    "        \"\"\"Verify calls made by is_vegetarian.\n",
    "        \"\"\"\n",
    "        test_ingredients = [mock.Mock(name='ingredient_1'), mock.Mock(name='ingredient_2')\n",
    "        test_recipe = Recipe(ingredients=test_ingredients)\n",
    "        test_recipe.is_vegetarian()\n",
    "        \n",
    "run_tests(RecipeTests)"
   ]
  },
  {
   "cell_type": "markdown",
   "metadata": {},
   "source": [
    "## Ingredient class"
   ]
  },
  {
   "cell_type": "code",
   "execution_count": null,
   "metadata": {
    "collapsed": false
   },
   "outputs": [],
   "source": [
    "class Ingredient(object):\n",
    "    \"\"\"Not very interesting yet. \n",
    "    \"\"\"     \n",
    "    def is_veggie(self):\n",
    "        \"\"\"Intentionally misnamed method.\n",
    "        \"\"\"\n",
    "        raise NotImplementedError()"
   ]
  },
  {
   "cell_type": "markdown",
   "metadata": {},
   "source": [
    "**Try it:** Re-run original RecipeTests.test_init, now that Ingredient is defined."
   ]
  },
  {
   "cell_type": "markdown",
   "metadata": {},
   "source": [
    "## Mock.spec_set"
   ]
  },
  {
   "cell_type": "code",
   "execution_count": null,
   "metadata": {
    "collapsed": false
   },
   "outputs": [],
   "source": [
    "class RecipeTests(unittest.TestCase):\n",
    "    \"\"\"Verify Recipe behavior.\n",
    "    \"\"\"\n",
    "    def test_is_vegetarian(self):\n",
    "        \"\"\"Verify calls made by is_vegetarian.\n",
    "        \"\"\"\n",
    "        test_ingredients = [mock.Mock(name='ingredient_1',\n",
    "                                     spec_set=Ingredient), \n",
    "                            mock.Mock(name='ingredient_2',\n",
    "                                     spec_set=Ingredient)]\n",
    "        test_recipe = Recipe(ingredients=test_ingredients)\n",
    "        test_recipe.is_vegetarian()\n",
    "        \n",
    "run_tests(RecipeTests)"
   ]
  },
  {
   "cell_type": "markdown",
   "metadata": {},
   "source": [
    "## Best practice: Prefer spec_set to autospec"
   ]
  },
  {
   "cell_type": "markdown",
   "metadata": {},
   "source": [
    "**Try it:** Replace spec_set with autospec."
   ]
  },
  {
   "cell_type": "markdown",
   "metadata": {},
   "source": [
    "## Fix Ingredient.is_vegetarian"
   ]
  },
  {
   "cell_type": "code",
   "execution_count": null,
   "metadata": {
    "collapsed": false
   },
   "outputs": [],
   "source": [
    "class Ingredient(object):\n",
    "    \"\"\"Not very interesting yet. \n",
    "    \"\"\"     \n",
    "    def is_vegetarian(self):\n",
    "        raise NotImplementedError()"
   ]
  },
  {
   "cell_type": "markdown",
   "metadata": {},
   "source": [
    "## RecipeTests.test_is_vegetarian with Ingredient objects"
   ]
  },
  {
   "cell_type": "code",
   "execution_count": null,
   "metadata": {
    "collapsed": false
   },
   "outputs": [],
   "source": [
    "class RecipeTests(unittest.TestCase):\n",
    "    \"\"\"Verify Recipe behavior.\n",
    "    \"\"\"\n",
    "    def test_is_vegetarian(self):\n",
    "        \"\"\"Verify calls made by is_vegetarian.\n",
    "        \"\"\"\n",
    "        test_ingredients = [Ingredient(), Ingredient()]\n",
    "        test_recipe = Recipe(ingredients=test_ingredients)\n",
    "        test_recipe.is_vegetarian()\n",
    "        \n",
    "run_tests(RecipeTests)"
   ]
  },
  {
   "cell_type": "markdown",
   "metadata": {},
   "source": [
    "## Not ready to implement Ingredient.is_vegetarian? No problem. Introducing mock.patch.object."
   ]
  },
  {
   "cell_type": "code",
   "execution_count": null,
   "metadata": {
    "collapsed": false
   },
   "outputs": [],
   "source": [
    "class RecipeTests(unittest.TestCase):\n",
    "    \"\"\"Verify Recipe behavior.\n",
    "    \"\"\"\n",
    "    @mock.patch.object(Ingredient, 'is_vegetarian')\n",
    "    def test_is_vegetarian(self, is_ingredient_vegetarian):\n",
    "        \"\"\"Verify calls made by is_vegetarian.\n",
    "        \"\"\"\n",
    "        # Set up test data\n",
    "        test_ingredients = [Ingredient(), Ingredient()]\n",
    "        test_recipe = Recipe(ingredients=test_ingredients)\n",
    "        \n",
    "        # Make call\n",
    "        test_recipe.is_vegetarian()\n",
    "        \n",
    "        # Verify mocks\n",
    "        self.assertEqual(2, is_ingredient_vegetarian.call_count)\n",
    "        \n",
    "run_tests(RecipeTests)"
   ]
  },
  {
   "cell_type": "markdown",
   "metadata": {},
   "source": [
    "## Best practice: Prefer mock.patch.object to mock.patch."
   ]
  },
  {
   "cell_type": "markdown",
   "metadata": {},
   "source": [
    "## Mock.return_value and Mock.call_count"
   ]
  },
  {
   "cell_type": "code",
   "execution_count": null,
   "metadata": {
    "collapsed": false
   },
   "outputs": [],
   "source": [
    "class RecipeTests(unittest.TestCase):\n",
    "    \"\"\"Verify Recipe behavior.\n",
    "    \"\"\"\n",
    "    @mock.patch.object(Ingredient, 'is_vegetarian')\n",
    "    def test_is_vegetarian__ingredients_vegetarian(self, is_veg_ingredient):\n",
    "        \"\"\"Verify return value of is_vegetarian when ingredients are vegetarian.\n",
    "        \"\"\"\n",
    "        # Set up mocks and test data \n",
    "        is_veg_ingredient.return_value = True\n",
    "        test_ingredients = [Ingredient(), Ingredient()]\n",
    "        test_recipe = Recipe(ingredients=test_ingredients)\n",
    "        \n",
    "        # Make call\n",
    "        result = test_recipe.is_vegetarian()\n",
    "        \n",
    "        # Verify result\n",
    "        self.assertTrue(result)\n",
    "        \n",
    "        # Verify mocks\n",
    "        self.assertEqual(len(test_ingredients), is_veg_ingredient.call_count)\n",
    "        \n",
    "    @mock.patch.object(Ingredient, 'is_vegetarian')\n",
    "    def test_is_vegetarian__ingredients_non_vegetarian(self, is_veg_ingredient):\n",
    "        \"\"\"Verify return value of is_vegetarian when ingredients are not vegetarian.\n",
    "        \"\"\"\n",
    "        pass\n",
    "        \n",
    "run_tests(RecipeTests)"
   ]
  },
  {
   "cell_type": "markdown",
   "metadata": {},
   "source": [
    "**Try it:** Implement test_is_vegetarian__ingredients_non_vegetarian."
   ]
  },
  {
   "cell_type": "markdown",
   "metadata": {},
   "source": [
    "## Mock.side_effect"
   ]
  },
  {
   "cell_type": "code",
   "execution_count": null,
   "metadata": {
    "collapsed": false
   },
   "outputs": [],
   "source": [
    "class RecipeTests(unittest.TestCase):\n",
    "    \"\"\"Verify Recipe behavior.\n",
    "    \"\"\"\n",
    "    @mock.patch.object(Ingredient, 'is_vegetarian')\n",
    "    def test_is_vegetarian__some_ingredients_vegetarian(self, is_veg_ingredient):\n",
    "        \"\"\"Verify return value of is_vegetarian when ingredients are vegetarian.\n",
    "        \"\"\"\n",
    "        # Set up mocks and test data\n",
    "        is_veg_ingredient.side_effect = [True, False, True]\n",
    "        test_ingredients = [Ingredient(), Ingredient(), Ingredient()]\n",
    "        test_recipe = Recipe(ingredients=test_ingredients)\n",
    "        \n",
    "        # Make call\n",
    "        result = test_recipe.is_vegetarian()\n",
    "        \n",
    "        # Verify result\n",
    "        self.assertFalse(result)\n",
    "        \n",
    "        # Verify mocks\n",
    "        # Stop calling ingredient.is_vegetarian after first False return value\n",
    "        self.assertEqual(2, is_veg_ingredient.call_count)\n",
    "        \n",
    "run_tests(RecipeTests)"
   ]
  },
  {
   "cell_type": "markdown",
   "metadata": {},
   "source": [
    "## Recipe and Ingredient is_vegetarian methods support _strict_ keyword argument"
   ]
  },
  {
   "cell_type": "code",
   "execution_count": null,
   "metadata": {
    "collapsed": false
   },
   "outputs": [],
   "source": [
    "class Recipe(object):\n",
    "    \"\"\"For now, just an encapsulation of ingredients.\n",
    "    \"\"\"\n",
    "    def __init__(self, ingredients=None):\n",
    "        self.ingredients = ingredients\n",
    "        \n",
    "    def is_vegetarian(self, strict=True):\n",
    "        \"\"\"Recipe is vegetarian iff all ingredients are vegetarian.\n",
    "        \n",
    "        :rtype: bool\n",
    "        :return: True if recipe is vegetarian, False otherwise\n",
    "        \n",
    "        :type strict: bool\n",
    "        :arg strict: True if only strictly vegetarian recipes should pass\n",
    "        \n",
    "        \"\"\"\n",
    "        if not self.ingredients:\n",
    "            raise ValueError(\"Recipe has no ingredients\")\n",
    "        for ingredient in self.ingredients:\n",
    "            if not ingredient.is_vegetarian(strict=strict):\n",
    "                return False\n",
    "        return True\n",
    "\n",
    "class Ingredient(object):\n",
    "    \"\"\"Not very interesting yet. \n",
    "    \"\"\"     \n",
    "    def is_vegetarian(self, strict=True):\n",
    "        raise NotImplementedError()"
   ]
  },
  {
   "cell_type": "markdown",
   "metadata": {},
   "source": [
    "## Mock.assert_called_once_with"
   ]
  },
  {
   "cell_type": "code",
   "execution_count": null,
   "metadata": {
    "collapsed": false
   },
   "outputs": [],
   "source": [
    "class RecipeTests(unittest.TestCase):\n",
    "    \"\"\"Verify Recipe behavior.\n",
    "    \"\"\"\n",
    "    @mock.patch.object(Ingredient, 'is_vegetarian')\n",
    "    def test_is_vegetarian__strict__one_ingredient(self, is_veg_ingredient):\n",
    "        \"\"\"Verify calls made by is_vegetarian.\n",
    "        \"\"\"\n",
    "        # Set up mocks and test data\n",
    "        is_veg_ingredient.return_value = True\n",
    "        mock_strict_arg = mock.Mock(name='strict_arg')\n",
    "        test_recipe = Recipe(ingredients=[Ingredient()])\n",
    "\n",
    "        # Make call\n",
    "        test_recipe.is_vegetarian(strict=mock_strict_arg)\n",
    "        \n",
    "        # Verify mocks\n",
    "        is_veg_ingredient.assert_called_once_with(strict=mock_strict_arg)\n",
    "       \n",
    "run_tests(RecipeTests)"
   ]
  },
  {
   "cell_type": "markdown",
   "metadata": {},
   "source": [
    "## Best practice: Prefer assert_called_once_with to assertEqual(1, my_mock.call_count)"
   ]
  },
  {
   "cell_type": "markdown",
   "metadata": {},
   "source": [
    "## Mock.call_args_list and Mock.call"
   ]
  },
  {
   "cell_type": "code",
   "execution_count": null,
   "metadata": {
    "collapsed": false
   },
   "outputs": [],
   "source": [
    "class RecipeTests(unittest.TestCase):\n",
    "    \"\"\"Verify Recipe behavior.\n",
    "    \"\"\"\n",
    "    @mock.patch.object(Ingredient, 'is_vegetarian')\n",
    "    def test_is_vegetarian__strict__multiple_ingredients(self, is_veg_ingredient):\n",
    "        \"\"\"Verify calls made by is_vegetarian.\n",
    "        \"\"\"\n",
    "        # Set up mocks and test data\n",
    "        is_veg_ingredient.return_value = True\n",
    "        mock_strict_arg = mock.Mock(name='strict_arg')\n",
    "        test_ingredients = [Ingredient(), Ingredient()]\n",
    "        test_recipe = Recipe(ingredients=test_ingredients)\n",
    "\n",
    "        # Make call\n",
    "        test_recipe.is_vegetarian(strict=mock_strict_arg)\n",
    "        \n",
    "        # Verify mocks\n",
    "        mock_calls = is_veg_ingredient.call_args_list\n",
    "        self.assertEqual(len(test_ingredients), len(mock_calls))\n",
    "        for mock_call in mock_calls:\n",
    "            self.assertEqual(mock.call(strict=mock_strict_arg), mock_call)\n",
    "        \n",
    "run_tests(RecipeTests)"
   ]
  },
  {
   "cell_type": "markdown",
   "metadata": {},
   "source": [
    "## unittest.TestCase.assertRaisesRegexp"
   ]
  },
  {
   "cell_type": "code",
   "execution_count": null,
   "metadata": {
    "collapsed": false
   },
   "outputs": [],
   "source": [
    "class RecipeTests(unittest.TestCase):\n",
    "    \"\"\"Verify Recipe behavior.\n",
    "    \"\"\"\n",
    "    def test_is_vegetarian__no_ingredients(self):\n",
    "        \"\"\"Verify ValueError if no ingredients are set on recipe.\n",
    "        \"\"\"\n",
    "        # Set up mocks and test data\n",
    "        for no_ingredients in (None, []):\n",
    "            test_recipe = Recipe(ingredients=no_ingredients)\n",
    "\n",
    "            # Make call\n",
    "            self.assertRaisesRegexp(ValueError,\n",
    "                                   'Recipe has no ingredients',\n",
    "                                    test_recipe.is_vegetarian)\n",
    "        \n",
    "        \n",
    "run_tests(RecipeTests)"
   ]
  },
  {
   "cell_type": "markdown",
   "metadata": {},
   "source": [
    "## Best practice: Prefer assertRaisesRegexp to assertRaises"
   ]
  }
 ],
 "metadata": {
  "kernelspec": {
   "display_name": "Python 2",
   "language": "python",
   "name": "python2"
  },
  "language_info": {
   "codemirror_mode": {
    "name": "ipython",
    "version": 2
   },
   "file_extension": ".py",
   "mimetype": "text/x-python",
   "name": "python",
   "nbconvert_exporter": "python",
   "pygments_lexer": "ipython2",
   "version": "2.7.11"
  }
 },
 "nbformat": 4,
 "nbformat_minor": 0
}
